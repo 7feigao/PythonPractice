{
 "cells": [
  {
   "cell_type": "markdown",
   "metadata": {
    "collapsed": true,
    "pycharm": {
     "name": "#%% md\n"
    }
   },
   "source": [
    "## 函数"
   ]
  },
  {
   "cell_type": "markdown",
   "metadata": {},
   "source": [
    "### 给函数编写文档\n",
    "1. 在函数第一行的字符串会被认为是函数文档，并作为函数的一部分存储起来。\n",
    "2. 可以通过内置函数`help()`或者函数属性`__doc__`来访问函数文档"
   ]
  },
  {
   "cell_type": "code",
   "execution_count": null,
   "metadata": {
    "pycharm": {
     "name": "#%%\n"
    }
   },
   "outputs": [],
   "source": [
    "def test_help():\n",
    "    'help message of current function test_help'\n",
    "    pass"
   ]
  },
  {
   "cell_type": "code",
   "execution_count": 2,
   "metadata": {
    "pycharm": {
     "name": "#%%\n"
    }
   },
   "outputs": [
    {
     "name": "stdout",
     "output_type": "stream",
     "text": [
      "Help on function test_help in module __main__:\n",
      "\n",
      "test_help()\n",
      "    help message of current function test_help\n",
      "\n"
     ]
    }
   ],
   "source": [
    "help(test_help)"
   ]
  },
  {
   "cell_type": "code",
   "execution_count": 3,
   "metadata": {
    "pycharm": {
     "name": "#%%\n"
    }
   },
   "outputs": [
    {
     "data": {
      "text/plain": [
       "'help message of current function test_help'"
      ]
     },
     "execution_count": 3,
     "metadata": {},
     "output_type": "execute_result"
    }
   ],
   "source": [
    "test_help.__doc__"
   ]
  },
  {
   "cell_type": "markdown",
   "metadata": {
    "pycharm": {
     "name": "#%% md\n"
    }
   },
   "source": [
    "### 函数返回类型\n",
    "1. 使用return语句来退出函数并返回值，函数中可以不包含返回语句或者只包含空返回语句，这时返回值为None。"
   ]
  },
  {
   "cell_type": "code",
   "execution_count": 11,
   "metadata": {
    "pycharm": {
     "name": "#%%\n"
    }
   },
   "outputs": [
    {
     "name": "stdout",
     "output_type": "stream",
     "text": [
      "a\n"
     ]
    }
   ],
   "source": [
    "def return_val():\n",
    "    return 'a'\n",
    "print(return_val())"
   ]
  },
  {
   "cell_type": "code",
   "execution_count": 8,
   "metadata": {
    "pycharm": {
     "name": "#%%\n"
    }
   },
   "outputs": [
    {
     "name": "stdout",
     "output_type": "stream",
     "text": [
      "None\n"
     ]
    }
   ],
   "source": [
    "def return_nothing():\n",
    "    return\n",
    "print(return_nothing())"
   ]
  },
  {
   "cell_type": "code",
   "execution_count": 12,
   "metadata": {
    "pycharm": {
     "name": "#%%\n"
    }
   },
   "outputs": [
    {
     "name": "stdout",
     "output_type": "stream",
     "text": [
      "None\n"
     ]
    }
   ],
   "source": [
    "def no_return():\n",
    "    a=1+2\n",
    "print(no_return())"
   ]
  },
  {
   "cell_type": "markdown",
   "metadata": {
    "pycharm": {
     "name": "#%% md\n"
    }
   },
   "source": [
    "### 函数参数\n",
    "1. `=interview=` 在函数内修改参数对函数外部变量的影响：\n",
    "    * 对于不可变的数据类型如字符串，数字和元组，内部修改不会影响到外部。\n",
    "    * 对与可变的数据类型如列表，字典，在函数内部修改变量会影响到外部。"
   ]
  },
  {
   "cell_type": "code",
   "execution_count": 13,
   "metadata": {
    "pycharm": {
     "name": "#%%\n"
    }
   },
   "outputs": [],
   "source": [
    "def test_variable(var_int:int,var_float:float,var_str:str,var_tuple:tuple,var_list:list,var_dict:dict):\n",
    "    var_int=var_int+2\n",
    "    var_float=var_float+2.1\n",
    "    var_tuple=(1,2,3,4)\n",
    "    var_list.append('in function')\n",
    "    var_dict['in_fun']='in_fun'"
   ]
  },
  {
   "cell_type": "markdown",
   "metadata": {
    "pycharm": {
     "name": "#%% md\n"
    }
   },
   "source": [
    "#### 位置参数\n",
    "#### 关键字参数\n",
    "\n"
   ]
  },
  {
   "cell_type": "markdown",
   "metadata": {
    "pycharm": {
     "name": "#%% md\n"
    }
   },
   "source": [
    "#### 收集不定数量参数\n",
    "##### `*params`\n",
    "1. 参数前面加星号会将提供的所有值放到一个元组里。\n",
    "2. 带星号的参数不一定需要放到函数的最后，但是带星号参数后面的参数在传参时需要指定参数的名字"
   ]
  },
  {
   "cell_type": "code",
   "execution_count": 14,
   "metadata": {
    "pycharm": {
     "name": "#%%\n"
    }
   },
   "outputs": [],
   "source": [
    "def print_params(*params):\n",
    "    print(type(params))#<class 'tuple'>\n",
    "    print(params)"
   ]
  },
  {
   "cell_type": "code",
   "execution_count": 16,
   "metadata": {
    "pycharm": {
     "name": "#%%\n"
    }
   },
   "outputs": [
    {
     "name": "stdout",
     "output_type": "stream",
     "text": [
      "<class 'tuple'>\n",
      "(1, 2, 3, '4', '5', [1, 2, 3])\n"
     ]
    }
   ],
   "source": [
    "print_params(1,2,3,'4','5',[1,2,3])"
   ]
  },
  {
   "cell_type": "code",
   "execution_count": 18,
   "metadata": {
    "pycharm": {
     "name": "#%%\n"
    }
   },
   "outputs": [],
   "source": [
    "def print_params2(str1,*params,str2):\n",
    "    print(f\"str1: {str1}\")\n",
    "    print(f\"params: {params}\")\n",
    "    print(f\"str2: {str2}\")"
   ]
  },
  {
   "cell_type": "code",
   "execution_count": 19,
   "metadata": {
    "pycharm": {
     "name": "#%%\n"
    }
   },
   "outputs": [
    {
     "ename": "TypeError",
     "evalue": "print_params2() missing 1 required keyword-only argument: 'str2'",
     "output_type": "error",
     "traceback": [
      "\u001B[1;31m---------------------------------------------------------------------------\u001B[0m",
      "\u001B[1;31mTypeError\u001B[0m                                 Traceback (most recent call last)",
      "\u001B[1;32m<ipython-input-19-f8ea3e38ce5a>\u001B[0m in \u001B[0;36m<module>\u001B[1;34m\u001B[0m\n\u001B[1;32m----> 1\u001B[1;33m \u001B[0mprint_params2\u001B[0m\u001B[1;33m(\u001B[0m\u001B[1;34m\"hello\"\u001B[0m\u001B[1;33m,\u001B[0m\u001B[1;34m'test1'\u001B[0m\u001B[1;33m,\u001B[0m\u001B[1;34m'test2'\u001B[0m\u001B[1;33m,\u001B[0m\u001B[1;34m'test3'\u001B[0m\u001B[1;33m)\u001B[0m\u001B[1;33m\u001B[0m\u001B[1;33m\u001B[0m\u001B[0m\n\u001B[0m",
      "\u001B[1;31mTypeError\u001B[0m: print_params2() missing 1 required keyword-only argument: 'str2'"
     ]
    }
   ],
   "source": [
    "print_params2(\"hello\",'test1','test2','test3')"
   ]
  },
  {
   "cell_type": "code",
   "execution_count": 20,
   "metadata": {
    "pycharm": {
     "name": "#%%\n"
    }
   },
   "outputs": [
    {
     "name": "stdout",
     "output_type": "stream",
     "text": [
      "str1: hello\n",
      "params: ('test1', 'test2')\n",
      "str2: world\n"
     ]
    }
   ],
   "source": [
    "print_params2('hello','test1','test2',str2='world')"
   ]
  },
  {
   "cell_type": "markdown",
   "metadata": {},
   "source": [
    "##### `**keypar`\n",
    "1. 可以使用两个星号来收集关键字参数，这样得到的是一个字典而不是元组"
   ]
  },
  {
   "cell_type": "code",
   "execution_count": 21,
   "metadata": {},
   "outputs": [],
   "source": [
    "def print_params3(x,y,z=3,*params,**keypair):\n",
    "    print(f\"x: {x}\")\n",
    "    print(f\"y: {y}\")\n",
    "    print(f\"z: {z}\")\n",
    "    print(f\"params: {params}\")\n",
    "    print(f\"type params: {type(params)}\")\n",
    "    print(f\"keypair: {keypair}\")\n",
    "    print(f\"type keypair: {type(keypair)}\")"
   ]
  },
  {
   "cell_type": "code",
   "execution_count": 24,
   "metadata": {},
   "outputs": [
    {
     "name": "stdout",
     "output_type": "stream",
     "text": [
      "x: 1\n",
      "y: 2\n",
      "z: 3\n",
      "params: (4, 5, 6, 7, 8, 9)\n",
      "type params: <class 'tuple'>\n",
      "keypair: {'a1': 12, 'a2': 13, 'a3': 14}\n",
      "type keypair: <class 'dict'>\n"
     ]
    }
   ],
   "source": [
    "print_params3(1,2,3,4,5,6,7,8,9,a1=12,a2=13,a3=14)"
   ]
  },
  {
   "cell_type": "markdown",
   "metadata": {},
   "source": [
    "##### 在调用函数时使用`*`和`**`将会分配元组或者字典中的参数"
   ]
  },
  {
   "cell_type": "code",
   "execution_count": 35,
   "metadata": {},
   "outputs": [
    {
     "name": "stdout",
     "output_type": "stream",
     "text": [
      "add() missing 1 required positional argument: 'y'\n"
     ]
    },
    {
     "data": {
      "text/plain": [
       "7"
      ]
     },
     "execution_count": 35,
     "metadata": {},
     "output_type": "execute_result"
    }
   ],
   "source": [
    "def add(x,y):\n",
    "    return x+y\n",
    "params=(3,4)\n",
    "\n",
    "try:\n",
    "    add(params)#TypeError\n",
    "except TypeError as e:\n",
    "    print(e)\n",
    "\n",
    "add(*params)#/correct"
   ]
  },
  {
   "cell_type": "code",
   "execution_count": 37,
   "metadata": {},
   "outputs": [
    {
     "ename": "SyntaxError",
     "evalue": "can't use starred expression here (<ipython-input-37-3dcf060d5eb8>, line 2)",
     "output_type": "error",
     "traceback": [
      "\u001B[1;36m  File \u001B[1;32m\"<ipython-input-37-3dcf060d5eb8>\"\u001B[1;36m, line \u001B[1;32m2\u001B[0m\n\u001B[1;33m    c,d=*params\u001B[0m\n\u001B[1;37m        ^\u001B[0m\n\u001B[1;31mSyntaxError\u001B[0m\u001B[1;31m:\u001B[0m can't use starred expression here\n"
     ]
    }
   ],
   "source": [
    "try:\n",
    "    c,d=*params\n",
    "except Exception as e:\n",
    "    print(e)"
   ]
  },
  {
   "cell_type": "code",
   "execution_count": 38,
   "metadata": {},
   "outputs": [],
   "source": [
    "def foo(x,y,z,m=1,n=2):\n",
    "    print(x,y,z,m,n)"
   ]
  },
  {
   "cell_type": "code",
   "execution_count": 42,
   "metadata": {},
   "outputs": [
    {
     "name": "stdout",
     "output_type": "stream",
     "text": [
      "7 8 3 5 4\n"
     ]
    }
   ],
   "source": [
    "params=(7,8)\n",
    "keypairs={'z':3,'n':4,'m':5}\n",
    "foo(*params,**keypairs)"
   ]
  },
  {
   "cell_type": "code",
   "execution_count": 44,
   "metadata": {},
   "outputs": [
    {
     "name": "stdout",
     "output_type": "stream",
     "text": [
      "foo() got an unexpected keyword argument 'o'\n"
     ]
    }
   ],
   "source": [
    "keypairs['o']=10\n",
    "try:\n",
    "    foo(*params,**keypairs)\n",
    "except TypeError as e:\n",
    "    print(e)"
   ]
  },
  {
   "cell_type": "code",
   "execution_count": null,
   "outputs": [],
   "source": [
    "from functools import reduce"
   ],
   "metadata": {
    "collapsed": false,
    "pycharm": {
     "name": "#%%\n"
    }
   }
  }
 ],
 "metadata": {
  "kernelspec": {
   "display_name": "Python 3",
   "language": "python",
   "name": "python3"
  },
  "language_info": {
   "codemirror_mode": {
    "name": "ipython",
    "version": 3
   },
   "file_extension": ".py",
   "mimetype": "text/x-python",
   "name": "python",
   "nbconvert_exporter": "python",
   "pygments_lexer": "ipython3",
   "version": "3.8.8"
  }
 },
 "nbformat": 4,
 "nbformat_minor": 1
}