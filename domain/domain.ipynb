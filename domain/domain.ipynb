{
 "cells": [
  {
   "cell_type": "markdown",
   "metadata": {
    "collapsed": true,
    "pycharm": {
     "name": "#%% md\n"
    }
   },
   "source": [
    "## 作用域\n",
    "> 参考： https://www.liujiangblog.com/course/python/32\n",
    "1. Python中所有的变量都会被存储在一个看不见的字典中，这个看不见的字典称为 **`命名空间`** 或者 **`作用域`**\n",
    "2. 可以使用内置函数`vars()`来获取当前作用域内所有的变量。\n",
    "3. 除了全局作用域以外，每个函数调用都将创建一个局部作用域。\n",
    "4. 局部作用域与局部作用域之间相互独立，无法直接互相访问变量。\n",
    "5. 局部作用域可以直接访问全局作用域中的变量，但当局部作用域中有与全局作用域同名的变量时，局部作用域中将只能使用局部变量（全局变量会被掩盖）\n",
    "6. 局部作用域中如果存在与外部作用域同名变量，则局部作用域中就不可能使用到外部作用域中的变量。\n",
    "```python\n",
    "a=10\n",
    "def testa():\n",
    "    print(a)#会在这报UnboundLocalError，因为当前函数作用域中已经存在本地的变量a.但是a的声明位置又在当前行之后                         \n",
    "    a=20\n",
    "    print(a)\n",
    "```\n",
    "7. 可以使用`globals`关键字访问全局变量，使用`nonlocal`关键字访问外部变量。"
   ]
  },
  {
   "cell_type": "code",
   "execution_count": 19,
   "metadata": {},
   "outputs": [
    {
     "name": "stdout",
     "output_type": "stream",
     "text": [
      "outer a: 1\n",
      "outer b: ['a']\n",
      "class a: 2\n",
      "class b: ['b']\n",
      "inner1 a: 3\n",
      "inner1 b: ['c']\n",
      "inner2 a: 4\n",
      "inner2 b: ['d']\n",
      "inner3 a: 5\n",
      "inner3 b: ['e']\n",
      "inner2.2 a: 4\n",
      "inner2.2 b: ['d']\n",
      "inner1.2 a: 3\n",
      "inner1.2 b: ['c']\n",
      "class.1 a: 2\n",
      "class.1 b: ['b']\n",
      "outer a: 1\n",
      "outer b: ['a']\n"
     ]
    }
   ],
   "source": [
    "%reset -f\n",
    "a=1\n",
    "b=['a']\n",
    "print(f\"outer a: {a}\")\n",
    "print(f\"outer b: {b}\")\n",
    "class A():\n",
    "    a=2\n",
    "    b=['b']\n",
    "    print(f\"class a: {a}\")\n",
    "    print(f\"class b: {b}\")\n",
    "    def inner1():\n",
    "        a=3\n",
    "        b=['c']\n",
    "        print(f\"inner1 a: {a}\")\n",
    "        print(f\"inner1 b: {b}\")\n",
    "        def inner2():\n",
    "            a=4\n",
    "            b=['d']\n",
    "            print(f\"inner2 a: {a}\")\n",
    "            print(f\"inner2 b: {b}\")\n",
    "            def inner3():\n",
    "                a=5\n",
    "                b=['e']\n",
    "                print(f\"inner3 a: {a}\")\n",
    "                print(f\"inner3 b: {b}\")\n",
    "            inner3()\n",
    "            print(f\"inner2.2 a: {a}\")\n",
    "            print(f\"inner2.2 b: {b}\")    \n",
    "        inner2()\n",
    "        print(f\"inner1.2 a: {a}\")\n",
    "        print(f\"inner1.2 b: {b}\")    \n",
    "    inner1()\n",
    "    print(f\"class.1 a: {a}\")\n",
    "    print(f\"class.1 b: {b}\")\n",
    "print(f\"outer a: {a}\")\n",
    "print(f\"outer b: {b}\")"
   ]
  },
  {
   "cell_type": "code",
   "execution_count": 36,
   "metadata": {},
   "outputs": [
    {
     "name": "stdout",
     "output_type": "stream",
     "text": [
      "outer a: 1\n",
      "outer b: ['a']\n",
      "class a: 1\n",
      "class b: ['a']\n",
      "inner1 a: 3\n",
      "inner1 b: ['c']\n"
     ]
    },
    {
     "ename": "UnboundLocalError",
     "evalue": "local variable 'a' referenced before assignment",
     "output_type": "error",
     "traceback": [
      "\u001B[1;31m---------------------------------------------------------------------------\u001B[0m",
      "\u001B[1;31mUnboundLocalError\u001B[0m                         Traceback (most recent call last)",
      "\u001B[1;32m<ipython-input-36-e84ea2b08b4f>\u001B[0m in \u001B[0;36m<module>\u001B[1;34m\u001B[0m\n\u001B[0;32m      4\u001B[0m \u001B[0mprint\u001B[0m\u001B[1;33m(\u001B[0m\u001B[1;34mf\"outer a: {a}\"\u001B[0m\u001B[1;33m)\u001B[0m\u001B[1;33m\u001B[0m\u001B[1;33m\u001B[0m\u001B[0m\n\u001B[0;32m      5\u001B[0m \u001B[0mprint\u001B[0m\u001B[1;33m(\u001B[0m\u001B[1;34mf\"outer b: {b}\"\u001B[0m\u001B[1;33m)\u001B[0m\u001B[1;33m\u001B[0m\u001B[1;33m\u001B[0m\u001B[0m\n\u001B[1;32m----> 6\u001B[1;33m \u001B[1;32mclass\u001B[0m \u001B[0mA\u001B[0m\u001B[1;33m(\u001B[0m\u001B[1;33m)\u001B[0m\u001B[1;33m:\u001B[0m\u001B[1;33m\u001B[0m\u001B[1;33m\u001B[0m\u001B[0m\n\u001B[0m\u001B[0;32m      7\u001B[0m \u001B[1;31m#     a=2\u001B[0m\u001B[1;33m\u001B[0m\u001B[1;33m\u001B[0m\u001B[1;33m\u001B[0m\u001B[0m\n\u001B[0;32m      8\u001B[0m \u001B[1;31m#     b=['b']\u001B[0m\u001B[1;33m\u001B[0m\u001B[1;33m\u001B[0m\u001B[1;33m\u001B[0m\u001B[0m\n",
      "\u001B[1;32m<ipython-input-36-e84ea2b08b4f>\u001B[0m in \u001B[0;36mA\u001B[1;34m()\u001B[0m\n\u001B[0;32m     35\u001B[0m         \u001B[0mprint\u001B[0m\u001B[1;33m(\u001B[0m\u001B[1;34mf\"inner1.2 a: {a}\"\u001B[0m\u001B[1;33m)\u001B[0m\u001B[1;33m\u001B[0m\u001B[1;33m\u001B[0m\u001B[0m\n\u001B[0;32m     36\u001B[0m         \u001B[0mprint\u001B[0m\u001B[1;33m(\u001B[0m\u001B[1;34mf\"inner1.2 b: {b}\"\u001B[0m\u001B[1;33m)\u001B[0m\u001B[1;33m\u001B[0m\u001B[1;33m\u001B[0m\u001B[0m\n\u001B[1;32m---> 37\u001B[1;33m     \u001B[0minner1\u001B[0m\u001B[1;33m(\u001B[0m\u001B[1;33m)\u001B[0m\u001B[1;33m\u001B[0m\u001B[1;33m\u001B[0m\u001B[0m\n\u001B[0m\u001B[0;32m     38\u001B[0m     \u001B[0mprint\u001B[0m\u001B[1;33m(\u001B[0m\u001B[1;34mf\"class.1 a: {a}\"\u001B[0m\u001B[1;33m)\u001B[0m\u001B[1;33m\u001B[0m\u001B[1;33m\u001B[0m\u001B[0m\n\u001B[0;32m     39\u001B[0m     \u001B[0mprint\u001B[0m\u001B[1;33m(\u001B[0m\u001B[1;34mf\"class.1 b: {b}\"\u001B[0m\u001B[1;33m)\u001B[0m\u001B[1;33m\u001B[0m\u001B[1;33m\u001B[0m\u001B[0m\n",
      "\u001B[1;32m<ipython-input-36-e84ea2b08b4f>\u001B[0m in \u001B[0;36minner1\u001B[1;34m()\u001B[0m\n\u001B[0;32m     32\u001B[0m             \u001B[0mprint\u001B[0m\u001B[1;33m(\u001B[0m\u001B[1;34mf\"inner2.2 a: {a}\"\u001B[0m\u001B[1;33m)\u001B[0m\u001B[1;33m\u001B[0m\u001B[1;33m\u001B[0m\u001B[0m\n\u001B[0;32m     33\u001B[0m             \u001B[0mprint\u001B[0m\u001B[1;33m(\u001B[0m\u001B[1;34mf\"inner2.2 b: {b}\"\u001B[0m\u001B[1;33m)\u001B[0m\u001B[1;33m\u001B[0m\u001B[1;33m\u001B[0m\u001B[0m\n\u001B[1;32m---> 34\u001B[1;33m         \u001B[0minner2\u001B[0m\u001B[1;33m(\u001B[0m\u001B[1;33m)\u001B[0m\u001B[1;33m\u001B[0m\u001B[1;33m\u001B[0m\u001B[0m\n\u001B[0m\u001B[0;32m     35\u001B[0m         \u001B[0mprint\u001B[0m\u001B[1;33m(\u001B[0m\u001B[1;34mf\"inner1.2 a: {a}\"\u001B[0m\u001B[1;33m)\u001B[0m\u001B[1;33m\u001B[0m\u001B[1;33m\u001B[0m\u001B[0m\n\u001B[0;32m     36\u001B[0m         \u001B[0mprint\u001B[0m\u001B[1;33m(\u001B[0m\u001B[1;34mf\"inner1.2 b: {b}\"\u001B[0m\u001B[1;33m)\u001B[0m\u001B[1;33m\u001B[0m\u001B[1;33m\u001B[0m\u001B[0m\n",
      "\u001B[1;32m<ipython-input-36-e84ea2b08b4f>\u001B[0m in \u001B[0;36minner2\u001B[1;34m()\u001B[0m\n\u001B[0;32m     17\u001B[0m \u001B[1;31m#             a=4\u001B[0m\u001B[1;33m\u001B[0m\u001B[1;33m\u001B[0m\u001B[1;33m\u001B[0m\u001B[0m\n\u001B[0;32m     18\u001B[0m \u001B[1;31m#             b=['d']\u001B[0m\u001B[1;33m\u001B[0m\u001B[1;33m\u001B[0m\u001B[1;33m\u001B[0m\u001B[0m\n\u001B[1;32m---> 19\u001B[1;33m             \u001B[0mprint\u001B[0m\u001B[1;33m(\u001B[0m\u001B[1;34mf\"inner2 a: {a}\"\u001B[0m\u001B[1;33m)\u001B[0m\u001B[1;33m\u001B[0m\u001B[1;33m\u001B[0m\u001B[0m\n\u001B[0m\u001B[0;32m     20\u001B[0m             \u001B[0mprint\u001B[0m\u001B[1;33m(\u001B[0m\u001B[1;34mf\"inner2 b: {b}\"\u001B[0m\u001B[1;33m)\u001B[0m\u001B[1;33m\u001B[0m\u001B[1;33m\u001B[0m\u001B[0m\n\u001B[0;32m     21\u001B[0m             \u001B[1;32mdef\u001B[0m \u001B[0minner3\u001B[0m\u001B[1;33m(\u001B[0m\u001B[1;33m)\u001B[0m\u001B[1;33m:\u001B[0m\u001B[1;33m\u001B[0m\u001B[1;33m\u001B[0m\u001B[0m\n",
      "\u001B[1;31mUnboundLocalError\u001B[0m: local variable 'a' referenced before assignment"
     ]
    }
   ],
   "source": [
    "%reset -f\n",
    "a=1\n",
    "b=['a']\n",
    "print(f\"outer a: {a}\")\n",
    "print(f\"outer b: {b}\")\n",
    "class A():\n",
    "#     a=2\n",
    "#     b=['b']\n",
    "    print(f\"class a: {a}\")\n",
    "    print(f\"class b: {b}\")\n",
    "    def inner1():\n",
    "        a=3\n",
    "        b=['c']\n",
    "        print(f\"inner1 a: {a}\")\n",
    "        print(f\"inner1 b: {b}\")\n",
    "        def inner2():\n",
    "#             a=4\n",
    "#             b=['d']\n",
    "            print(f\"inner2 a: {a}\")\n",
    "            print(f\"inner2 b: {b}\")\n",
    "            def inner3():\n",
    "                try:\n",
    "                    print(f\"inner3 a: {a}\")\n",
    "                    print(f\"inner3 b: {b}\")\n",
    "                    a=10\n",
    "                    b.append('e')\n",
    "                except UnboundLocalError as e:\n",
    "                    print(e)\n",
    "            inner3()\n",
    "            b.append('c')\n",
    "            print(f\"inner2.2 a: {a}\")\n",
    "            print(f\"inner2.2 b: {b}\")    \n",
    "        inner2()\n",
    "        print(f\"inner1.2 a: {a}\")\n",
    "        print(f\"inner1.2 b: {b}\")    \n",
    "    inner1()\n",
    "    print(f\"class.1 a: {a}\")\n",
    "    print(f\"class.1 b: {b}\")\n",
    "print(f\"outer a: {a}\")\n",
    "print(f\"outer b: {b}\")"
   ]
  },
  {
   "cell_type": "code",
   "execution_count": 21,
   "metadata": {},
   "outputs": [
    {
     "name": "stdout",
     "output_type": "stream",
     "text": [
      "outer a: 1\n",
      "outer b: ['a']\n",
      "class a: 2\n",
      "class b: ['b']\n",
      "inner1 a: 3\n",
      "inner1 b: ['c']\n",
      "inner2 a: 4\n",
      "inner2 b: ['d']\n",
      "inner3 a: 4\n",
      "inner3 b: ['d']\n",
      "inner2.2 a: 6\n",
      "inner2.2 b: ['d', 'f']\n",
      "inner1.2 a: 3\n",
      "inner1.2 b: ['c']\n",
      "class.1 a: 2\n",
      "class.1 b: ['b']\n",
      "outer a: 1\n",
      "outer b: ['a']\n"
     ]
    }
   ],
   "source": [
    "%reset -f\n",
    "a=1\n",
    "b=['a']\n",
    "print(f\"outer a: {a}\")\n",
    "print(f\"outer b: {b}\")\n",
    "class A():\n",
    "    a=2\n",
    "    b=['b']\n",
    "    print(f\"class a: {a}\")\n",
    "    print(f\"class b: {b}\")\n",
    "    def inner1():\n",
    "        a=3\n",
    "        b=['c']\n",
    "        print(f\"inner1 a: {a}\")\n",
    "        print(f\"inner1 b: {b}\")\n",
    "        def inner2():\n",
    "            a=4\n",
    "            b=['d']\n",
    "            print(f\"inner2 a: {a}\")\n",
    "            print(f\"inner2 b: {b}\")\n",
    "            def inner3():\n",
    "                nonlocal a\n",
    "                nonlocal b\n",
    "#                 a=5\n",
    "#                 b=['e']\n",
    "                print(f\"inner3 a: {a}\")\n",
    "                print(f\"inner3 b: {b}\")\n",
    "                a=6\n",
    "                b.append('f')\n",
    "            inner3()\n",
    "            print(f\"inner2.2 a: {a}\")\n",
    "            print(f\"inner2.2 b: {b}\")    \n",
    "        inner2()\n",
    "        print(f\"inner1.2 a: {a}\")\n",
    "        print(f\"inner1.2 b: {b}\")    \n",
    "    inner1()\n",
    "    print(f\"class.1 a: {a}\")\n",
    "    print(f\"class.1 b: {b}\")\n",
    "print(f\"outer a: {a}\")\n",
    "print(f\"outer b: {b}\")"
   ]
  },
  {
   "cell_type": "code",
   "execution_count": 37,
   "metadata": {},
   "outputs": [
    {
     "name": "stdout",
     "output_type": "stream",
     "text": [
      "outer a: 1\n",
      "outer b: ['a']\n",
      "class a: 2\n",
      "class b: ['b']\n",
      "inner1 a: 3\n",
      "inner1 b: ['c']\n",
      "inner2 a: 4\n",
      "inner2 b: ['d']\n",
      "inner3 a: 4\n",
      "inner3 b: ['d']\n",
      "inner2.2 a: 6\n",
      "inner2.2 b: ['e', 'f', 'g']\n",
      "inner1.2 a: 3\n",
      "inner1.2 b: ['c']\n",
      "class.1 a: 2\n",
      "class.1 b: ['b']\n",
      "outer a: 1\n",
      "outer b: ['a']\n"
     ]
    }
   ],
   "source": [
    "%reset -f\n",
    "a=1\n",
    "b=['a']\n",
    "print(f\"outer a: {a}\")\n",
    "print(f\"outer b: {b}\")\n",
    "class A():\n",
    "    a=2\n",
    "    b=['b']\n",
    "    print(f\"class a: {a}\")\n",
    "    print(f\"class b: {b}\")\n",
    "    def inner1():\n",
    "        a=3\n",
    "        b=['c']\n",
    "        print(f\"inner1 a: {a}\")\n",
    "        print(f\"inner1 b: {b}\")\n",
    "        def inner2():\n",
    "            a=4\n",
    "            b=['d']\n",
    "            print(f\"inner2 a: {a}\")\n",
    "            print(f\"inner2 b: {b}\")\n",
    "            def inner3():\n",
    "                nonlocal a\n",
    "                nonlocal b\n",
    "#                 a=5\n",
    "#                 b=['e']\n",
    "                print(f\"inner3 a: {a}\")\n",
    "                print(f\"inner3 b: {b}\")\n",
    "                a=6\n",
    "                b=['e','f','g']\n",
    "            inner3()\n",
    "            print(f\"inner2.2 a: {a}\")\n",
    "            print(f\"inner2.2 b: {b}\")    \n",
    "        inner2()\n",
    "        print(f\"inner1.2 a: {a}\")\n",
    "        print(f\"inner1.2 b: {b}\")    \n",
    "    inner1()\n",
    "    print(f\"class.1 a: {a}\")\n",
    "    print(f\"class.1 b: {b}\")\n",
    "print(f\"outer a: {a}\")\n",
    "print(f\"outer b: {b}\")"
   ]
  },
  {
   "cell_type": "code",
   "execution_count": 39,
   "metadata": {},
   "outputs": [
    {
     "name": "stdout",
     "output_type": "stream",
     "text": [
      "outer a: 1\n",
      "outer b: ['a']\n",
      "class a: 2\n",
      "class b: ['b']\n",
      "inner1 a: 3\n",
      "inner1 b: ['c']\n",
      "inner2 a: 3\n",
      "inner2 b: ['c']\n",
      "inner3 a: 3\n",
      "inner3 b: ['c']\n",
      "inner2.2 a: 6\n",
      "inner2.2 b: ['e', 'f', 'g']\n",
      "inner1.2 a: 6\n",
      "inner1.2 b: ['e', 'f', 'g']\n",
      "class.1 a: 2\n",
      "class.1 b: ['b']\n",
      "outer a: 1\n",
      "outer b: ['a']\n"
     ]
    }
   ],
   "source": [
    "%reset -f\n",
    "a=1\n",
    "b=['a']\n",
    "print(f\"outer a: {a}\")\n",
    "print(f\"outer b: {b}\")\n",
    "class A():\n",
    "    a=2\n",
    "    b=['b']\n",
    "    print(f\"class a: {a}\")\n",
    "    print(f\"class b: {b}\")\n",
    "    def inner1():\n",
    "        a=3\n",
    "        b=['c']\n",
    "        print(f\"inner1 a: {a}\")\n",
    "        print(f\"inner1 b: {b}\")\n",
    "        def inner2():\n",
    "            print(f\"inner2 a: {a}\")\n",
    "            print(f\"inner2 b: {b}\")\n",
    "            def inner3():\n",
    "                nonlocal a\n",
    "                nonlocal b\n",
    "#                 a=5\n",
    "#                 b=['e']\n",
    "                print(f\"inner3 a: {a}\")\n",
    "                print(f\"inner3 b: {b}\")\n",
    "                a=6\n",
    "                b=['e','f','g']\n",
    "            inner3()\n",
    "            print(f\"inner2.2 a: {a}\")\n",
    "            print(f\"inner2.2 b: {b}\")    \n",
    "        inner2()\n",
    "        print(f\"inner1.2 a: {a}\")\n",
    "        print(f\"inner1.2 b: {b}\")    \n",
    "    inner1()\n",
    "    print(f\"class.1 a: {a}\")\n",
    "    print(f\"class.1 b: {b}\")\n",
    "print(f\"outer a: {a}\")\n",
    "print(f\"outer b: {b}\")"
   ]
  },
  {
   "cell_type": "code",
   "execution_count": 3,
   "metadata": {},
   "outputs": [
    {
     "name": "stdout",
     "output_type": "stream",
     "text": [
      "****************************************************************************************************\n",
      "vars in scope (1): {'__name__': '__main__', '__builtin__': <module 'builtins' (built-in)>, '__builtins__': <module 'builtins' (built-in)>, '_ih': ['', 'get_ipython().run_line_magic(\\'reset\\', \\'-f\\')\\nvar_scope=0\\nvar_scope1=1\\nprint(\\'*\\'*100)\\nprint(f\"vars in scope (1): {vars()}\")\\nprint(\\'*\\'*100)\\nprint(f\"locals in scope (1): {locals()}\")\\nclass A():\\n    var_scope=2\\n    print(\\'*\\'*100)\\n    print(f\"vars in class (1): {vars()}\")\\n    print(\\'*\\'*100)\\n    print(f\"locals in class (1): {locals()}\")\\n    def a():\\n        var_scope=3\\n        print(\\'*\\'*100)\\n        \\n        print(f\"var_scope1: {var_scope1}\")\\n        print(\\'*\\'*100)\\n        print(f\"vars in function a: {vars()}\")\\n        print(\\'*\\'*100)\\n        print(f\"locals in function a: {locals()}\")\\n\\n    def b(self):\\n        var_scope=3\\n        print(\\'*\\'*100)\\n        print(f\"vars in function b: {vars()}\")\\n        print(\\'*\\'*100)\\n        print(f\"locals in function b: {locals()}\")\\n    print(\\'*\\'*100)\\n    print(f\"vars in class (2): {vars()}\")    \\n    print(\\'*\\'*100)\\n    print(f\"locals in class (2): {locals()}\")    \\n    \\nA.a()\\na=A()\\na.b()\\nprint(\\'*\\'*100)\\nprint(f\"vars in scope (2): {vars()}\")\\nprint(\\'*\\'*100)\\nprint(f\"locals in scope (2): {locals()}\")', 'vars()', 'get_ipython().run_line_magic(\\'reset\\', \\'-f\\')\\nvar_scope=0\\nvar_scope1=1\\nprint(\\'*\\'*100)\\nprint(f\"vars in scope (1): {vars()}\")\\nprint(\\'*\\'*100)\\nprint(f\"locals in scope (1): {locals()}\")\\nclass A():\\n    var_scope=2\\n    var_scope2=9\\n    print(\\'*\\'*100)\\n    print(f\"vars in class (1): {vars()}\")\\n    print(\\'*\\'*100)\\n    print(f\"locals in class (1): {locals()}\")\\n    def a():\\n        var_scope=3\\n        print(\\'*\\'*100)\\n        \\n        print(f\"var_scope1: {var_scope1}\")\\n        print(f\"var_scope2: {var_scope2}\")\\n        \\n        print(\\'*\\'*100)\\n        print(f\"vars in function a: {vars()}\")\\n        print(\\'*\\'*100)\\n        print(f\"locals in function a: {locals()}\")\\n\\n    def b(self):\\n        var_scope=3\\n        print(\\'*\\'*100)\\n        print(f\"vars in function b: {vars()}\")\\n        print(\\'*\\'*100)\\n        print(f\"locals in function b: {locals()}\")\\n    print(\\'*\\'*100)\\n    print(f\"vars in class (2): {vars()}\")    \\n    print(\\'*\\'*100)\\n    print(f\"locals in class (2): {locals()}\")    \\n    \\nA.a()\\na=A()\\na.b()\\nprint(\\'*\\'*100)\\nprint(f\"vars in scope (2): {vars()}\")\\nprint(\\'*\\'*100)\\nprint(f\"locals in scope (2): {locals()}\")'], '_oh': {}, '_dh': ['F:\\\\repos\\\\PythonPractice\\\\domain'], 'In': ['', 'get_ipython().run_line_magic(\\'reset\\', \\'-f\\')\\nvar_scope=0\\nvar_scope1=1\\nprint(\\'*\\'*100)\\nprint(f\"vars in scope (1): {vars()}\")\\nprint(\\'*\\'*100)\\nprint(f\"locals in scope (1): {locals()}\")\\nclass A():\\n    var_scope=2\\n    print(\\'*\\'*100)\\n    print(f\"vars in class (1): {vars()}\")\\n    print(\\'*\\'*100)\\n    print(f\"locals in class (1): {locals()}\")\\n    def a():\\n        var_scope=3\\n        print(\\'*\\'*100)\\n        \\n        print(f\"var_scope1: {var_scope1}\")\\n        print(\\'*\\'*100)\\n        print(f\"vars in function a: {vars()}\")\\n        print(\\'*\\'*100)\\n        print(f\"locals in function a: {locals()}\")\\n\\n    def b(self):\\n        var_scope=3\\n        print(\\'*\\'*100)\\n        print(f\"vars in function b: {vars()}\")\\n        print(\\'*\\'*100)\\n        print(f\"locals in function b: {locals()}\")\\n    print(\\'*\\'*100)\\n    print(f\"vars in class (2): {vars()}\")    \\n    print(\\'*\\'*100)\\n    print(f\"locals in class (2): {locals()}\")    \\n    \\nA.a()\\na=A()\\na.b()\\nprint(\\'*\\'*100)\\nprint(f\"vars in scope (2): {vars()}\")\\nprint(\\'*\\'*100)\\nprint(f\"locals in scope (2): {locals()}\")', 'vars()', 'get_ipython().run_line_magic(\\'reset\\', \\'-f\\')\\nvar_scope=0\\nvar_scope1=1\\nprint(\\'*\\'*100)\\nprint(f\"vars in scope (1): {vars()}\")\\nprint(\\'*\\'*100)\\nprint(f\"locals in scope (1): {locals()}\")\\nclass A():\\n    var_scope=2\\n    var_scope2=9\\n    print(\\'*\\'*100)\\n    print(f\"vars in class (1): {vars()}\")\\n    print(\\'*\\'*100)\\n    print(f\"locals in class (1): {locals()}\")\\n    def a():\\n        var_scope=3\\n        print(\\'*\\'*100)\\n        \\n        print(f\"var_scope1: {var_scope1}\")\\n        print(f\"var_scope2: {var_scope2}\")\\n        \\n        print(\\'*\\'*100)\\n        print(f\"vars in function a: {vars()}\")\\n        print(\\'*\\'*100)\\n        print(f\"locals in function a: {locals()}\")\\n\\n    def b(self):\\n        var_scope=3\\n        print(\\'*\\'*100)\\n        print(f\"vars in function b: {vars()}\")\\n        print(\\'*\\'*100)\\n        print(f\"locals in function b: {locals()}\")\\n    print(\\'*\\'*100)\\n    print(f\"vars in class (2): {vars()}\")    \\n    print(\\'*\\'*100)\\n    print(f\"locals in class (2): {locals()}\")    \\n    \\nA.a()\\na=A()\\na.b()\\nprint(\\'*\\'*100)\\nprint(f\"vars in scope (2): {vars()}\")\\nprint(\\'*\\'*100)\\nprint(f\"locals in scope (2): {locals()}\")'], 'Out': {}, 'get_ipython': <bound method InteractiveShell.get_ipython of <ipykernel.zmqshell.ZMQInteractiveShell object at 0x000001C6D2BB9FD0>>, 'exit': <IPython.core.autocall.ZMQExitAutocall object at 0x000001C6D2C78610>, 'quit': <IPython.core.autocall.ZMQExitAutocall object at 0x000001C6D2C78610>, 'var_scope': 0, 'var_scope1': 1}\n",
      "****************************************************************************************************\n",
      "locals in scope (1): {'__name__': '__main__', '__builtin__': <module 'builtins' (built-in)>, '__builtins__': <module 'builtins' (built-in)>, '_ih': ['', 'get_ipython().run_line_magic(\\'reset\\', \\'-f\\')\\nvar_scope=0\\nvar_scope1=1\\nprint(\\'*\\'*100)\\nprint(f\"vars in scope (1): {vars()}\")\\nprint(\\'*\\'*100)\\nprint(f\"locals in scope (1): {locals()}\")\\nclass A():\\n    var_scope=2\\n    print(\\'*\\'*100)\\n    print(f\"vars in class (1): {vars()}\")\\n    print(\\'*\\'*100)\\n    print(f\"locals in class (1): {locals()}\")\\n    def a():\\n        var_scope=3\\n        print(\\'*\\'*100)\\n        \\n        print(f\"var_scope1: {var_scope1}\")\\n        print(\\'*\\'*100)\\n        print(f\"vars in function a: {vars()}\")\\n        print(\\'*\\'*100)\\n        print(f\"locals in function a: {locals()}\")\\n\\n    def b(self):\\n        var_scope=3\\n        print(\\'*\\'*100)\\n        print(f\"vars in function b: {vars()}\")\\n        print(\\'*\\'*100)\\n        print(f\"locals in function b: {locals()}\")\\n    print(\\'*\\'*100)\\n    print(f\"vars in class (2): {vars()}\")    \\n    print(\\'*\\'*100)\\n    print(f\"locals in class (2): {locals()}\")    \\n    \\nA.a()\\na=A()\\na.b()\\nprint(\\'*\\'*100)\\nprint(f\"vars in scope (2): {vars()}\")\\nprint(\\'*\\'*100)\\nprint(f\"locals in scope (2): {locals()}\")', 'vars()', 'get_ipython().run_line_magic(\\'reset\\', \\'-f\\')\\nvar_scope=0\\nvar_scope1=1\\nprint(\\'*\\'*100)\\nprint(f\"vars in scope (1): {vars()}\")\\nprint(\\'*\\'*100)\\nprint(f\"locals in scope (1): {locals()}\")\\nclass A():\\n    var_scope=2\\n    var_scope2=9\\n    print(\\'*\\'*100)\\n    print(f\"vars in class (1): {vars()}\")\\n    print(\\'*\\'*100)\\n    print(f\"locals in class (1): {locals()}\")\\n    def a():\\n        var_scope=3\\n        print(\\'*\\'*100)\\n        \\n        print(f\"var_scope1: {var_scope1}\")\\n        print(f\"var_scope2: {var_scope2}\")\\n        \\n        print(\\'*\\'*100)\\n        print(f\"vars in function a: {vars()}\")\\n        print(\\'*\\'*100)\\n        print(f\"locals in function a: {locals()}\")\\n\\n    def b(self):\\n        var_scope=3\\n        print(\\'*\\'*100)\\n        print(f\"vars in function b: {vars()}\")\\n        print(\\'*\\'*100)\\n        print(f\"locals in function b: {locals()}\")\\n    print(\\'*\\'*100)\\n    print(f\"vars in class (2): {vars()}\")    \\n    print(\\'*\\'*100)\\n    print(f\"locals in class (2): {locals()}\")    \\n    \\nA.a()\\na=A()\\na.b()\\nprint(\\'*\\'*100)\\nprint(f\"vars in scope (2): {vars()}\")\\nprint(\\'*\\'*100)\\nprint(f\"locals in scope (2): {locals()}\")'], '_oh': {}, '_dh': ['F:\\\\repos\\\\PythonPractice\\\\domain'], 'In': ['', 'get_ipython().run_line_magic(\\'reset\\', \\'-f\\')\\nvar_scope=0\\nvar_scope1=1\\nprint(\\'*\\'*100)\\nprint(f\"vars in scope (1): {vars()}\")\\nprint(\\'*\\'*100)\\nprint(f\"locals in scope (1): {locals()}\")\\nclass A():\\n    var_scope=2\\n    print(\\'*\\'*100)\\n    print(f\"vars in class (1): {vars()}\")\\n    print(\\'*\\'*100)\\n    print(f\"locals in class (1): {locals()}\")\\n    def a():\\n        var_scope=3\\n        print(\\'*\\'*100)\\n        \\n        print(f\"var_scope1: {var_scope1}\")\\n        print(\\'*\\'*100)\\n        print(f\"vars in function a: {vars()}\")\\n        print(\\'*\\'*100)\\n        print(f\"locals in function a: {locals()}\")\\n\\n    def b(self):\\n        var_scope=3\\n        print(\\'*\\'*100)\\n        print(f\"vars in function b: {vars()}\")\\n        print(\\'*\\'*100)\\n        print(f\"locals in function b: {locals()}\")\\n    print(\\'*\\'*100)\\n    print(f\"vars in class (2): {vars()}\")    \\n    print(\\'*\\'*100)\\n    print(f\"locals in class (2): {locals()}\")    \\n    \\nA.a()\\na=A()\\na.b()\\nprint(\\'*\\'*100)\\nprint(f\"vars in scope (2): {vars()}\")\\nprint(\\'*\\'*100)\\nprint(f\"locals in scope (2): {locals()}\")', 'vars()', 'get_ipython().run_line_magic(\\'reset\\', \\'-f\\')\\nvar_scope=0\\nvar_scope1=1\\nprint(\\'*\\'*100)\\nprint(f\"vars in scope (1): {vars()}\")\\nprint(\\'*\\'*100)\\nprint(f\"locals in scope (1): {locals()}\")\\nclass A():\\n    var_scope=2\\n    var_scope2=9\\n    print(\\'*\\'*100)\\n    print(f\"vars in class (1): {vars()}\")\\n    print(\\'*\\'*100)\\n    print(f\"locals in class (1): {locals()}\")\\n    def a():\\n        var_scope=3\\n        print(\\'*\\'*100)\\n        \\n        print(f\"var_scope1: {var_scope1}\")\\n        print(f\"var_scope2: {var_scope2}\")\\n        \\n        print(\\'*\\'*100)\\n        print(f\"vars in function a: {vars()}\")\\n        print(\\'*\\'*100)\\n        print(f\"locals in function a: {locals()}\")\\n\\n    def b(self):\\n        var_scope=3\\n        print(\\'*\\'*100)\\n        print(f\"vars in function b: {vars()}\")\\n        print(\\'*\\'*100)\\n        print(f\"locals in function b: {locals()}\")\\n    print(\\'*\\'*100)\\n    print(f\"vars in class (2): {vars()}\")    \\n    print(\\'*\\'*100)\\n    print(f\"locals in class (2): {locals()}\")    \\n    \\nA.a()\\na=A()\\na.b()\\nprint(\\'*\\'*100)\\nprint(f\"vars in scope (2): {vars()}\")\\nprint(\\'*\\'*100)\\nprint(f\"locals in scope (2): {locals()}\")'], 'Out': {}, 'get_ipython': <bound method InteractiveShell.get_ipython of <ipykernel.zmqshell.ZMQInteractiveShell object at 0x000001C6D2BB9FD0>>, 'exit': <IPython.core.autocall.ZMQExitAutocall object at 0x000001C6D2C78610>, 'quit': <IPython.core.autocall.ZMQExitAutocall object at 0x000001C6D2C78610>, 'var_scope': 0, 'var_scope1': 1}\n",
      "****************************************************************************************************\n",
      "vars in class (1): {'__module__': '__main__', '__qualname__': 'A', 'var_scope': 2, 'var_scope2': 9}\n",
      "****************************************************************************************************\n",
      "locals in class (1): {'__module__': '__main__', '__qualname__': 'A', 'var_scope': 2, 'var_scope2': 9}\n",
      "****************************************************************************************************\n",
      "vars in class (2): {'__module__': '__main__', '__qualname__': 'A', 'var_scope': 2, 'var_scope2': 9, 'a': <function A.a at 0x000001C6D2CC84C0>, 'b': <function A.b at 0x000001C6D2CC8430>}\n",
      "****************************************************************************************************\n",
      "locals in class (2): {'__module__': '__main__', '__qualname__': 'A', 'var_scope': 2, 'var_scope2': 9, 'a': <function A.a at 0x000001C6D2CC84C0>, 'b': <function A.b at 0x000001C6D2CC8430>}\n",
      "****************************************************************************************************\n",
      "var_scope1: 1\n"
     ]
    },
    {
     "ename": "NameError",
     "evalue": "name 'var_scope2' is not defined",
     "output_type": "error",
     "traceback": [
      "\u001B[1;31m---------------------------------------------------------------------------\u001B[0m",
      "\u001B[1;31mNameError\u001B[0m                                 Traceback (most recent call last)",
      "\u001B[1;32m<ipython-input-3-c87e4b05372a>\u001B[0m in \u001B[0;36m<module>\u001B[1;34m\u001B[0m\n\u001B[0;32m     36\u001B[0m     \u001B[0mprint\u001B[0m\u001B[1;33m(\u001B[0m\u001B[1;34mf\"locals in class (2): {locals()}\"\u001B[0m\u001B[1;33m)\u001B[0m\u001B[1;33m\u001B[0m\u001B[1;33m\u001B[0m\u001B[0m\n\u001B[0;32m     37\u001B[0m \u001B[1;33m\u001B[0m\u001B[0m\n\u001B[1;32m---> 38\u001B[1;33m \u001B[0mA\u001B[0m\u001B[1;33m.\u001B[0m\u001B[0ma\u001B[0m\u001B[1;33m(\u001B[0m\u001B[1;33m)\u001B[0m\u001B[1;33m\u001B[0m\u001B[1;33m\u001B[0m\u001B[0m\n\u001B[0m\u001B[0;32m     39\u001B[0m \u001B[0ma\u001B[0m\u001B[1;33m=\u001B[0m\u001B[0mA\u001B[0m\u001B[1;33m(\u001B[0m\u001B[1;33m)\u001B[0m\u001B[1;33m\u001B[0m\u001B[1;33m\u001B[0m\u001B[0m\n\u001B[0;32m     40\u001B[0m \u001B[0ma\u001B[0m\u001B[1;33m.\u001B[0m\u001B[0mb\u001B[0m\u001B[1;33m(\u001B[0m\u001B[1;33m)\u001B[0m\u001B[1;33m\u001B[0m\u001B[1;33m\u001B[0m\u001B[0m\n",
      "\u001B[1;32m<ipython-input-3-c87e4b05372a>\u001B[0m in \u001B[0;36ma\u001B[1;34m()\u001B[0m\n\u001B[0;32m     18\u001B[0m \u001B[1;33m\u001B[0m\u001B[0m\n\u001B[0;32m     19\u001B[0m         \u001B[0mprint\u001B[0m\u001B[1;33m(\u001B[0m\u001B[1;34mf\"var_scope1: {var_scope1}\"\u001B[0m\u001B[1;33m)\u001B[0m\u001B[1;33m\u001B[0m\u001B[1;33m\u001B[0m\u001B[0m\n\u001B[1;32m---> 20\u001B[1;33m         \u001B[0mprint\u001B[0m\u001B[1;33m(\u001B[0m\u001B[1;34mf\"var_scope2: {var_scope2}\"\u001B[0m\u001B[1;33m)\u001B[0m\u001B[1;33m\u001B[0m\u001B[1;33m\u001B[0m\u001B[0m\n\u001B[0m\u001B[0;32m     21\u001B[0m \u001B[1;33m\u001B[0m\u001B[0m\n\u001B[0;32m     22\u001B[0m         \u001B[0mprint\u001B[0m\u001B[1;33m(\u001B[0m\u001B[1;34m'*'\u001B[0m\u001B[1;33m*\u001B[0m\u001B[1;36m100\u001B[0m\u001B[1;33m)\u001B[0m\u001B[1;33m\u001B[0m\u001B[1;33m\u001B[0m\u001B[0m\n",
      "\u001B[1;31mNameError\u001B[0m: name 'var_scope2' is not defined"
     ]
    }
   ],
   "source": [
    "%reset -f\n",
    "var_scope=0\n",
    "var_scope1=1\n",
    "print('*'*100)\n",
    "print(f\"locals in scope (1): {locals()}\")\n",
    "class A():\n",
    "    var_scope=2\n",
    "    var_scope2=9\n",
    "    print('*'*100)\n",
    "    print(f\"locals in class (1): {locals()}\")\n",
    "    def a():\n",
    "        var_scope=3\n",
    "        print('*'*100)\n",
    "        print(f\"var_scope1: {var_scope1}\")\n",
    "        print(f\"var_scope2: {var_scope2}\")\n",
    "        print('*'*100)\n",
    "        print(f\"locals in function a: {locals()}\")\n",
    "\n",
    "    def b(self):\n",
    "        var_scope=3\n",
    "        print('*'*100)\n",
    "        print(f\"locals in function b: {locals()}\")\n",
    "    print('*'*100)\n",
    "    print(f\"locals in class (2): {locals()}\")    \n",
    "    \n",
    "A.a()\n",
    "a=A()\n",
    "a.b()\n",
    "print('*'*100)\n",
    "print(f\"locals in scope (2): {locals()}\")\n"
   ]
  },
  {
   "cell_type": "code",
   "execution_count": null,
   "metadata": {},
   "outputs": [],
   "source": []
  },
  {
   "cell_type": "code",
   "execution_count": null,
   "metadata": {},
   "outputs": [],
   "source": []
  },
  {
   "cell_type": "code",
   "execution_count": 2,
   "metadata": {
    "pycharm": {
     "name": "#%%\n"
    }
   },
   "outputs": [
    {
     "data": {
      "text/plain": [
       "{'__name__': '__main__',\n",
       " '__builtin__': <module 'builtins' (built-in)>,\n",
       " '__builtins__': <module 'builtins' (built-in)>,\n",
       " '_ih': ['',\n",
       "  'get_ipython().run_line_magic(\\'reset\\', \\'-f\\')\\nvar_scope=0\\nvar_scope1=1\\nprint(\\'*\\'*100)\\nprint(f\"vars in scope (1): {vars()}\")\\nprint(\\'*\\'*100)\\nprint(f\"locals in scope (1): {locals()}\")\\nclass A():\\n    var_scope=2\\n    print(\\'*\\'*100)\\n    print(f\"vars in class (1): {vars()}\")\\n    print(\\'*\\'*100)\\n    print(f\"locals in class (1): {locals()}\")\\n    def a():\\n        var_scope=3\\n        print(\\'*\\'*100)\\n        \\n        print(f\"var_scope1: {var_scope1}\")\\n        print(\\'*\\'*100)\\n        print(f\"vars in function a: {vars()}\")\\n        print(\\'*\\'*100)\\n        print(f\"locals in function a: {locals()}\")\\n\\n    def b(self):\\n        var_scope=3\\n        print(\\'*\\'*100)\\n        print(f\"vars in function b: {vars()}\")\\n        print(\\'*\\'*100)\\n        print(f\"locals in function b: {locals()}\")\\n    print(\\'*\\'*100)\\n    print(f\"vars in class (2): {vars()}\")    \\n    print(\\'*\\'*100)\\n    print(f\"locals in class (2): {locals()}\")    \\n    \\nA.a()\\na=A()\\na.b()\\nprint(\\'*\\'*100)\\nprint(f\"vars in scope (2): {vars()}\")\\nprint(\\'*\\'*100)\\nprint(f\"locals in scope (2): {locals()}\")',\n",
       "  'vars()'],\n",
       " '_oh': {},\n",
       " '_dh': ['F:\\\\repos\\\\PythonPractice\\\\domain'],\n",
       " 'In': ['',\n",
       "  'get_ipython().run_line_magic(\\'reset\\', \\'-f\\')\\nvar_scope=0\\nvar_scope1=1\\nprint(\\'*\\'*100)\\nprint(f\"vars in scope (1): {vars()}\")\\nprint(\\'*\\'*100)\\nprint(f\"locals in scope (1): {locals()}\")\\nclass A():\\n    var_scope=2\\n    print(\\'*\\'*100)\\n    print(f\"vars in class (1): {vars()}\")\\n    print(\\'*\\'*100)\\n    print(f\"locals in class (1): {locals()}\")\\n    def a():\\n        var_scope=3\\n        print(\\'*\\'*100)\\n        \\n        print(f\"var_scope1: {var_scope1}\")\\n        print(\\'*\\'*100)\\n        print(f\"vars in function a: {vars()}\")\\n        print(\\'*\\'*100)\\n        print(f\"locals in function a: {locals()}\")\\n\\n    def b(self):\\n        var_scope=3\\n        print(\\'*\\'*100)\\n        print(f\"vars in function b: {vars()}\")\\n        print(\\'*\\'*100)\\n        print(f\"locals in function b: {locals()}\")\\n    print(\\'*\\'*100)\\n    print(f\"vars in class (2): {vars()}\")    \\n    print(\\'*\\'*100)\\n    print(f\"locals in class (2): {locals()}\")    \\n    \\nA.a()\\na=A()\\na.b()\\nprint(\\'*\\'*100)\\nprint(f\"vars in scope (2): {vars()}\")\\nprint(\\'*\\'*100)\\nprint(f\"locals in scope (2): {locals()}\")',\n",
       "  'vars()'],\n",
       " 'Out': {},\n",
       " 'get_ipython': <bound method InteractiveShell.get_ipython of <ipykernel.zmqshell.ZMQInteractiveShell object at 0x000001C6D2BB9FD0>>,\n",
       " 'exit': <IPython.core.autocall.ZMQExitAutocall at 0x1c6d2c78610>,\n",
       " 'quit': <IPython.core.autocall.ZMQExitAutocall at 0x1c6d2c78610>,\n",
       " 'var_scope': 0,\n",
       " 'var_scope1': 1,\n",
       " 'A': __main__.A,\n",
       " 'a': <__main__.A at 0x1c6d2ca2ca0>,\n",
       " '_i': '%reset -f\\nvar_scope=0\\nvar_scope1=1\\nprint(\\'*\\'*100)\\nprint(f\"vars in scope (1): {vars()}\")\\nprint(\\'*\\'*100)\\nprint(f\"locals in scope (1): {locals()}\")\\nclass A():\\n    var_scope=2\\n    print(\\'*\\'*100)\\n    print(f\"vars in class (1): {vars()}\")\\n    print(\\'*\\'*100)\\n    print(f\"locals in class (1): {locals()}\")\\n    def a():\\n        var_scope=3\\n        print(\\'*\\'*100)\\n        \\n        print(f\"var_scope1: {var_scope1}\")\\n        print(\\'*\\'*100)\\n        print(f\"vars in function a: {vars()}\")\\n        print(\\'*\\'*100)\\n        print(f\"locals in function a: {locals()}\")\\n\\n    def b(self):\\n        var_scope=3\\n        print(\\'*\\'*100)\\n        print(f\"vars in function b: {vars()}\")\\n        print(\\'*\\'*100)\\n        print(f\"locals in function b: {locals()}\")\\n    print(\\'*\\'*100)\\n    print(f\"vars in class (2): {vars()}\")    \\n    print(\\'*\\'*100)\\n    print(f\"locals in class (2): {locals()}\")    \\n    \\nA.a()\\na=A()\\na.b()\\nprint(\\'*\\'*100)\\nprint(f\"vars in scope (2): {vars()}\")\\nprint(\\'*\\'*100)\\nprint(f\"locals in scope (2): {locals()}\")',\n",
       " '_ii': '',\n",
       " '_iii': '',\n",
       " '_i2': 'vars()'}"
      ]
     },
     "execution_count": 2,
     "metadata": {},
     "output_type": "execute_result"
    }
   ],
   "source": [
    "vars()"
   ]
  }
 ],
 "metadata": {
  "kernelspec": {
   "display_name": "Python 3",
   "language": "python",
   "name": "python3"
  },
  "language_info": {
   "codemirror_mode": {
    "name": "ipython",
    "version": 3
   },
   "file_extension": ".py",
   "mimetype": "text/x-python",
   "name": "python",
   "nbconvert_exporter": "python",
   "pygments_lexer": "ipython3",
   "version": "3.8.8"
  }
 },
 "nbformat": 4,
 "nbformat_minor": 1
}